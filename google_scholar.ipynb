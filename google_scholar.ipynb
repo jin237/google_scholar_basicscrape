{
 "cells": [
  {
   "cell_type": "code",
   "execution_count": 2,
   "metadata": {},
   "outputs": [],
   "source": [
    "from bs4 import BeautifulSoup\n",
    "import requests\n",
    "import pandas as pd\n",
    "import re"
   ]
  },
  {
   "cell_type": "code",
   "execution_count": 3,
   "metadata": {},
   "outputs": [],
   "source": [
    "def get_search_results_df(keyword,number):\n",
    "    columns = [\"rank\", \"title\", \"writer\", \"year\", \"citations\", \"url\"]\n",
    "    df = pd.DataFrame(columns=columns) \n",
    "    html_doc = requests.get(\"https://scholar.google.co.jp/scholar?hl=ja&as_sdt=0%2C5&num=\" + str(number) + \"&q=\" + keyword).text\n",
    "    soup = BeautifulSoup(html_doc, \"html.parser\") \n",
    "    tags1 = soup.find_all(\"h3\", {\"class\": \"gs_rt\"})  \n",
    "    tags2 = soup.find_all(\"div\", {\"class\": \"gs_a\"})  \n",
    "    tags3 = soup.find_all(text=re.compile(\"引用元\"))  \n",
    "\n",
    "    rank = 1\n",
    "    for tag1, tag2, tag3 in zip(tags1, tags2, tags3):\n",
    "        title = tag1.text.replace(\"[HTML]\",\"\")\n",
    "        url = tag1.select(\"a\")[0].get(\"href\")\n",
    "        writer = tag2.text\n",
    "        writer = re.sub(r'\\d', '', writer)\n",
    "        year = tag2.text\n",
    "        year = re.sub(r'\\D', '', year)\n",
    "        citations = tag3.replace(\"引用元\",\"\")\n",
    "        se = pd.Series([rank, title, writer, year, citations, url], columns)\n",
    "        df = df.append(se, columns)\n",
    "        rank += 1\n",
    "    return df"
   ]
  },
  {
   "cell_type": "code",
   "execution_count": 5,
   "metadata": {},
   "outputs": [
    {
     "name": "stdout",
     "output_type": "stream",
     "text": [
      "keyword:knowledge manegement\n",
      "10\n",
      "please enter the folder name and extension:knowledge_management.csv\n"
     ]
    }
   ],
   "source": [
    "keyword = input(\"keyword:\")\n",
    "number = int(input(\"number of get_papers:\"))\n",
    "search_results_df = get_search_results_df(keyword,number)\n",
    "filename = input(\"please enter the folder name and extension:\")\n",
    "search_results_df.to_csv(filename, encoding=\"utf-8\")"
   ]
  },
  {
   "cell_type": "code",
   "execution_count": null,
   "metadata": {},
   "outputs": [],
   "source": []
  }
 ],
 "metadata": {
  "kernelspec": {
   "display_name": "Python 3",
   "language": "python",
   "name": "python3"
  },
  "language_info": {
   "codemirror_mode": {
    "name": "ipython",
    "version": 3
   },
   "file_extension": ".py",
   "mimetype": "text/x-python",
   "name": "python",
   "nbconvert_exporter": "python",
   "pygments_lexer": "ipython3",
   "version": "3.8.3"
  }
 },
 "nbformat": 4,
 "nbformat_minor": 4
}
